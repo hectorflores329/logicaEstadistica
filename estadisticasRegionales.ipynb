{
 "cells": [
  {
   "cell_type": "code",
   "execution_count": null,
   "id": "22a7f191",
   "metadata": {},
   "outputs": [],
   "source": [
    "import _descarga as d\n",
    "import _limpieza as cl\n",
    "import _agregacion as a"
   ]
  },
  {
   "cell_type": "code",
   "execution_count": null,
   "id": "7c7e3a7e",
   "metadata": {},
   "outputs": [],
   "source": [
    "def estadisticas():\n",
    "    \n",
    "    d.descarga()\n",
    "    cl.limpieza()\n",
    "    a.agregacion()\n",
    "    "
   ]
  },
  {
   "cell_type": "code",
   "execution_count": null,
   "id": "ccb23b60",
   "metadata": {},
   "outputs": [],
   "source": [
    "estadisticas()"
   ]
  },
  {
   "cell_type": "code",
   "execution_count": null,
   "id": "2655cbf1",
   "metadata": {},
   "outputs": [],
   "source": []
  }
 ],
 "metadata": {
  "kernelspec": {
   "display_name": "Python 3",
   "language": "python",
   "name": "python3"
  },
  "language_info": {
   "codemirror_mode": {
    "name": "ipython",
    "version": 3
   },
   "file_extension": ".py",
   "mimetype": "text/x-python",
   "name": "python",
   "nbconvert_exporter": "python",
   "pygments_lexer": "ipython3",
   "version": "3.8.8"
  }
 },
 "nbformat": 4,
 "nbformat_minor": 5
}
